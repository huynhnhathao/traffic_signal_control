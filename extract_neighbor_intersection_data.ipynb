{
 "cells": [
  {
   "cell_type": "code",
   "execution_count": 2,
   "metadata": {},
   "outputs": [],
   "source": [
    "import pickle\n"
   ]
  },
  {
   "cell_type": "code",
   "execution_count": 3,
   "metadata": {},
   "outputs": [],
   "source": [
    "data = pickle.load(open('Desktop/stater-kit/test/intersection_road_segment.pkl', 'rb'))\n"
   ]
  },
  {
   "cell_type": "code",
   "execution_count": 11,
   "metadata": {},
   "outputs": [
    {
     "name": "stdout",
     "output_type": "stream",
     "text": [
      "100\n",
      "200\n",
      "300\n",
      "400\n",
      "500\n",
      "600\n",
      "700\n",
      "800\n"
     ]
    }
   ],
   "source": [
    "neighbor_intersection_data = {}\n",
    "c = 0\n",
    "for intersection_id, roads in data.items():\n",
    "    c+= 1\n",
    "    if c %100 == 0:\n",
    "        print(c, flush = True)\n",
    "    # each intersection has at most 8 neighbors\n",
    "    neighbor_intersection_data[intersection_id] = {}\n",
    "    \n",
    "    for road_name, road_id in roads.items():\n",
    "        if road_id == '-1':\n",
    "            continue\n",
    "        found_yet = False\n",
    "        for nb_id, nb_roads in data.items():\n",
    "            for nb_road_name, nb_road_id in nb_roads.items():\n",
    "                if nb_road_id == '-1':\n",
    "                    continue\n",
    "                if road_id == nb_road_id and intersection_id != nb_id:\n",
    "                    neighbor_intersection_data[intersection_id][road_name] = nb_id\n",
    "                    break\n",
    "            if found_yet:\n",
    "                break\n",
    "                    \n",
    "    "
   ]
  },
  {
   "cell_type": "code",
   "execution_count": 12,
   "metadata": {},
   "outputs": [
    {
     "data": {
      "text/plain": [
       "{'road1': '327',\n",
       " 'road3': '3',\n",
       " 'road5': '3984',\n",
       " 'road7': '3985',\n",
       " 'road2': '328',\n",
       " 'road4': '4',\n",
       " 'road6': '3983',\n",
       " 'road8': '3986'}"
      ]
     },
     "execution_count": 12,
     "metadata": {},
     "output_type": "execute_result"
    }
   ],
   "source": [
    "data['42266617929']"
   ]
  },
  {
   "cell_type": "code",
   "execution_count": 17,
   "metadata": {},
   "outputs": [
    {
     "data": {
      "text/plain": [
       "{'road1': '13232998290',\n",
       " 'road5': '13232998301',\n",
       " 'road2': '13232998290',\n",
       " 'road6': '13232998301'}"
      ]
     },
     "execution_count": 17,
     "metadata": {},
     "output_type": "execute_result"
    }
   ],
   "source": [
    "neighbor_intersection_data['13232998292']"
   ]
  },
  {
   "cell_type": "code",
   "execution_count": 18,
   "metadata": {},
   "outputs": [
    {
     "data": {
      "text/plain": [
       "{'road1': '5594',\n",
       " 'road3': '-1',\n",
       " 'road5': '123',\n",
       " 'road7': '119',\n",
       " 'road2': '5593',\n",
       " 'road4': '-1',\n",
       " 'road6': '124',\n",
       " 'road8': '120'}"
      ]
     },
     "execution_count": 18,
     "metadata": {},
     "output_type": "execute_result"
    }
   ],
   "source": [
    "data['13232998290']"
   ]
  },
  {
   "cell_type": "code",
   "execution_count": 20,
   "metadata": {},
   "outputs": [
    {
     "ename": "FileNotFoundError",
     "evalue": "[Errno 2] No such file or directory: 'Desktop/stater-kit/test/neighbor_intersection_data.pkl'",
     "output_type": "error",
     "traceback": [
      "\u001b[1;31m---------------------------------------------------------------------------\u001b[0m",
      "\u001b[1;31mFileNotFoundError\u001b[0m                         Traceback (most recent call last)",
      "\u001b[1;32m<ipython-input-20-33f4c143a152>\u001b[0m in \u001b[0;36m<module>\u001b[1;34m\u001b[0m\n\u001b[1;32m----> 1\u001b[1;33m \u001b[0mpickle\u001b[0m\u001b[1;33m.\u001b[0m\u001b[0mdump\u001b[0m\u001b[1;33m(\u001b[0m\u001b[0mopen\u001b[0m\u001b[1;33m(\u001b[0m\u001b[1;34m'Desktop/stater-kit/test/neighbor_intersection_data.pkl'\u001b[0m\u001b[1;33m)\u001b[0m\u001b[1;33m,\u001b[0m \u001b[1;34m'wb'\u001b[0m\u001b[1;33m)\u001b[0m\u001b[1;33m\u001b[0m\u001b[1;33m\u001b[0m\u001b[0m\n\u001b[0m",
      "\u001b[1;31mFileNotFoundError\u001b[0m: [Errno 2] No such file or directory: 'Desktop/stater-kit/test/neighbor_intersection_data.pkl'"
     ]
    }
   ],
   "source": [
    "pickle.dump(, )"
   ]
  },
  {
   "cell_type": "code",
   "execution_count": null,
   "metadata": {},
   "outputs": [],
   "source": [
    "with open('Desktop/stater-kit/test/neighbor_intersection_data.pkl','wb') as f:\n",
    "    pickle.dump(neighbor_intersection_datam )"
   ]
  }
 ],
 "metadata": {
  "kernelspec": {
   "display_name": "Python 3",
   "language": "python",
   "name": "python3"
  },
  "language_info": {
   "codemirror_mode": {
    "name": "ipython",
    "version": 3
   },
   "file_extension": ".py",
   "mimetype": "text/x-python",
   "name": "python",
   "nbconvert_exporter": "python",
   "pygments_lexer": "ipython3",
   "version": "3.8.5"
  }
 },
 "nbformat": 4,
 "nbformat_minor": 4
}
